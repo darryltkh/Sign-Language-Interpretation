{
  "cells": [
    {
      "cell_type": "code",
      "execution_count": 119,
      "id": "059a87a2",
      "metadata": {
        "id": "059a87a2"
      },
      "outputs": [],
      "source": [
        "import tensorflow as tf\n",
        "import numpy as np\n",
        "import matplotlib.pyplot as plt\n",
        "import math\n",
        "import pandas as pd\n",
        "import os\n",
        "import glob\n",
        "from pathlib import Path"
      ]
    },
    {
      "cell_type": "code",
      "execution_count": 120,
      "id": "1db4f434",
      "metadata": {
        "colab": {
          "base_uri": "https://localhost:8080/"
        },
        "id": "1db4f434",
        "outputId": "3dafdcf2-d80e-437c-e2db-1db0833d02a2"
      },
      "outputs": [
        {
          "output_type": "stream",
          "name": "stdout",
          "text": [
            "Processing index 0 for gesture 'how'.\n",
            "\tThere are 75 recordings of the how gesture.\n",
            "Processing index 1 for gesture 'me'.\n",
            "\tThere are 75 recordings of the me gesture.\n",
            "Processing index 2 for gesture 'bus'.\n",
            "\tThere are 75 recordings of the bus gesture.\n",
            "Processing index 3 for gesture 'you'.\n",
            "\tThere are 75 recordings of the you gesture.\n"
          ]
        }
      ],
      "source": [
        "GESTURES = [\n",
        "    # \"done\",\n",
        "    # \"hi\",\n",
        "    # \"love\",\n",
        "    # \"good\",\n",
        "    \"how\",\n",
        "    \"me\",\n",
        "    # \"sorry\",\n",
        "    \"bus\",\n",
        "    \"you\",\n",
        "]\n",
        "\n",
        "SAMPLES_PER_GESTURE = 119\n",
        "\n",
        "NUM_GESTURES = len(GESTURES)\n",
        "\n",
        "# create a one-hot encoded matrix that is used in the output\n",
        "ONE_HOT_ENCODED_GESTURES = np.eye(NUM_GESTURES)\n",
        "\n",
        "inputs = []\n",
        "outputs = []\n",
        "\n",
        "# read each csv file and push an input and output\n",
        "for gesture_index in range(NUM_GESTURES):\n",
        "  gesture = GESTURES[gesture_index]\n",
        "  print(f\"Processing index {gesture_index} for gesture '{gesture}'.\")\n",
        "  \n",
        "  output = ONE_HOT_ENCODED_GESTURES[gesture_index]\n",
        "  \n",
        "  df = pd.read_csv(gesture + \"_tgt.csv\")\n",
        "  \n",
        "  # calculate the number of gesture recordings in the file\n",
        "  num_recordings = int(df.shape[0] / SAMPLES_PER_GESTURE)\n",
        "  \n",
        "  print(f\"\\tThere are {num_recordings} recordings of the {gesture} gesture.\")\n",
        "  \n",
        "  for i in range(num_recordings):\n",
        "    tensor = []\n",
        "    for j in range(SAMPLES_PER_GESTURE):\n",
        "      index = i * SAMPLES_PER_GESTURE + j\n",
        "      # normalize the input data, between 0 to 1:\n",
        "      # - acceleration is between: -4 to +4\n",
        "      # - gyroscope is between: -2000 to +2000\n",
        "      tensor += [\n",
        "          (df['aX'][index] + 4) / 8,\n",
        "          (df['aY'][index] + 4) / 8,\n",
        "          (df['aZ'][index] + 4) / 8,\n",
        "          (df['gX'][index] + 1000) / 2000,\n",
        "          (df['gY'][index] + 1000) / 2000,\n",
        "          (df['gZ'][index] + 1000) / 2000\n",
        "      ]\n",
        "\n",
        "    inputs.append(tensor)\n",
        "    outputs.append(output)\n",
        "\n",
        "# convert the list to numpy array\n",
        "inputs = np.array(inputs)\n",
        "outputs = np.array(outputs)"
      ]
    },
    {
      "cell_type": "code",
      "execution_count": 121,
      "id": "b0fb7277",
      "metadata": {
        "colab": {
          "base_uri": "https://localhost:8080/"
        },
        "id": "b0fb7277",
        "outputId": "3472f3ac-409d-435f-be89-4dfa241802dc"
      },
      "outputs": [
        {
          "output_type": "stream",
          "name": "stdout",
          "text": [
            "300\n",
            "TRAIN_SIZE:  180   0.6\n",
            "TEST_SIZE:  240   0.8\n"
          ]
        }
      ],
      "source": [
        "# Randomize the order of the inputs, so they can be evenly distributed for training, testing, and validation\n",
        "# https://stackoverflow.com/a/37710486/2020087\n",
        "num_inputs = len(inputs)\n",
        "randomize = np.arange(num_inputs)\n",
        "np.random.shuffle(randomize)\n",
        "\n",
        "# Swap the consecutive indexes (0, 1, 2, etc) with the randomized indexes\n",
        "inputs = inputs[randomize]\n",
        "outputs = outputs[randomize]\n",
        "\n",
        "print(num_inputs)\n",
        "TRAIN_SPLIT = int(0.6 * num_inputs)\n",
        "TEST_SPLIT = int(0.2 * num_inputs + TRAIN_SPLIT)\n",
        "print(\"TRAIN_SIZE: \" , TRAIN_SPLIT ,\" \", TRAIN_SPLIT/num_inputs)\n",
        "print(\"TEST_SIZE: \" , TEST_SPLIT ,\" \", TEST_SPLIT/num_inputs)\n",
        "\n",
        "inputs_train, inputs_test, inputs_validate = np.split(inputs, [TRAIN_SPLIT, TEST_SPLIT])\n",
        "outputs_train, outputs_test, outputs_validate = np.split(outputs, [TRAIN_SPLIT, TEST_SPLIT])"
      ]
    },
    {
      "cell_type": "code",
      "execution_count": 122,
      "id": "47bf89df",
      "metadata": {
        "colab": {
          "base_uri": "https://localhost:8080/"
        },
        "id": "47bf89df",
        "outputId": "734a8ebc-312d-4340-c850-88b5203ecfd6"
      },
      "outputs": [
        {
          "output_type": "stream",
          "name": "stdout",
          "text": [
            "(180, 714)\n",
            "(60, 714)\n",
            "(60, 714)\n"
          ]
        }
      ],
      "source": [
        "print(inputs_train.shape)\n",
        "print(inputs_test.shape)\n",
        "print(inputs_validate.shape)"
      ]
    },
    {
      "cell_type": "code",
      "execution_count": 123,
      "id": "a5364e6b",
      "metadata": {
        "id": "a5364e6b"
      },
      "outputs": [],
      "source": [
        "from tensorflow.keras.callbacks import Callback\n",
        "class epoch_progress(Callback):\n",
        "    def on_epoch_end(self, epoch, logs={}):\n",
        "        if (epoch+1)%50 == 0:\n",
        "            print(\"epoch {} is done\".format(epoch+1))"
      ]
    },
    {
      "cell_type": "code",
      "execution_count": 124,
      "id": "621d73e2",
      "metadata": {
        "scrolled": true,
        "id": "621d73e2"
      },
      "outputs": [],
      "source": [
        "# build the model and train it\n",
        "model = tf.keras.Sequential()\n",
        "model.add(tf.keras.layers.Dense(64, activation='relu'))\n",
        "# model.add(tf.keras.layers.Dropout(0.1))\n",
        "model.add(tf.keras.layers.Dense(64, activation='relu'))\n",
        "# model.add(tf.keras.layers.Dropout(0.1))\n",
        "model.add(tf.keras.layers.Dense(32, activation='relu'))\n",
        "# model.add(tf.keras.layers.Dropout(0.1))\n",
        "model.add(tf.keras.layers.Dense(32, activation='relu'))\n",
        "# model.add(tf.keras.layers.Dropout(0.1))\n",
        "# model.add(tf.keras.layers.Dense(16, activation='relu'))\n",
        "model.add(tf.keras.layers.Dense(NUM_GESTURES, activation='softmax')) # softmax is used, because we only expect one gesture to occur per input\n",
        "model.compile(optimizer='adam', loss='mse', metrics=['mae'])"
      ]
    },
    {
      "cell_type": "code",
      "execution_count": 125,
      "id": "58b8feff",
      "metadata": {
        "colab": {
          "base_uri": "https://localhost:8080/"
        },
        "id": "58b8feff",
        "outputId": "328fc4df-bd65-435e-8364-bb55b129b94a"
      },
      "outputs": [
        {
          "output_type": "stream",
          "name": "stdout",
          "text": [
            "epoch 50 is done\n",
            "epoch 100 is done\n",
            "epoch 150 is done\n",
            "epoch 200 is done\n"
          ]
        }
      ],
      "source": [
        "ep = epoch_progress()\n",
        "callback = tf.keras.callbacks.EarlyStopping(monitor='loss', patience=100)\n",
        "history_1 = model.fit(inputs_train, outputs_train, \n",
        "                    epochs=200, \n",
        "                    batch_size=1, \n",
        "                    verbose=0,\n",
        "                    use_multiprocessing=True,\n",
        "                    # callbacks = [ep],\n",
        "                    callbacks = [ep, callback],\n",
        "                    validation_data=(inputs_test, outputs_test))"
      ]
    },
    {
      "cell_type": "code",
      "execution_count": 126,
      "id": "61e2ee8e",
      "metadata": {
        "colab": {
          "base_uri": "https://localhost:8080/"
        },
        "id": "61e2ee8e",
        "outputId": "052c7c98-313c-4e59-a0e6-83aa33be96d2"
      },
      "outputs": [
        {
          "output_type": "stream",
          "name": "stdout",
          "text": [
            "Model: \"sequential_7\"\n",
            "_________________________________________________________________\n",
            " Layer (type)                Output Shape              Param #   \n",
            "=================================================================\n",
            " dense_36 (Dense)            (1, 64)                   45760     \n",
            "                                                                 \n",
            " dense_37 (Dense)            (1, 64)                   4160      \n",
            "                                                                 \n",
            " dense_38 (Dense)            (1, 32)                   2080      \n",
            "                                                                 \n",
            " dense_39 (Dense)            (1, 32)                   1056      \n",
            "                                                                 \n",
            " dense_40 (Dense)            (1, 4)                    132       \n",
            "                                                                 \n",
            "=================================================================\n",
            "Total params: 53,188\n",
            "Trainable params: 53,188\n",
            "Non-trainable params: 0\n",
            "_________________________________________________________________\n"
          ]
        }
      ],
      "source": [
        "model.summary()"
      ]
    },
    {
      "cell_type": "code",
      "execution_count": 127,
      "id": "89bd3f6b",
      "metadata": {
        "colab": {
          "base_uri": "https://localhost:8080/",
          "height": 515
        },
        "id": "89bd3f6b",
        "outputId": "5d7242d8-ae5a-4b64-99d5-c3ea97680e7c"
      },
      "outputs": [
        {
          "output_type": "display_data",
          "data": {
            "text/plain": [
              "<Figure size 2000x1000 with 1 Axes>"
            ],
            "image/png": "[encoded data removed]"
          },
          "metadata": {}
        }
      ],
      "source": [
        "# increase the size of the graphs. The default size is (6,4).\n",
        "plt.rcParams[\"figure.figsize\"] = (20,10)\n",
        "\n",
        "# graph the loss, the model above is configure to use \"mean squared error\" as the loss function\n",
        "loss = history_1.history['loss']\n",
        "val_loss = history_1.history['val_loss']\n",
        "epochs = range(1, len(loss) + 1)\n",
        "plt.plot(epochs, loss, 'g.', label='Training loss')\n",
        "plt.plot(epochs, val_loss, 'b', label='Validation loss')\n",
        "plt.title('Training and validation loss')\n",
        "plt.xlabel('Epochs')\n",
        "plt.ylabel('Loss')\n",
        "plt.legend()\n",
        "plt.show()"
      ]
    },
    {
      "cell_type": "code",
      "execution_count": 128,
      "id": "7e5e800c",
      "metadata": {
        "colab": {
          "base_uri": "https://localhost:8080/",
          "height": 517
        },
        "id": "7e5e800c",
        "outputId": "7214ff3a-0e14-406a-db2a-c52457239748"
      },
      "outputs": [
        {
          "output_type": "display_data",
          "data": {
            "text/plain": [
              "<Figure size 2000x1000 with 1 Axes>"
            ],
            "image/png": "[encoded data removed]"
          },
          "metadata": {}
        }
      ],
      "source": [
        "mae = history_1.history['mae']\n",
        "val_mae = history_1.history['val_mae']\n",
        "plt.plot(epochs[:], mae[:], 'g.', label='Training MAE')\n",
        "plt.plot(epochs[:], val_mae[:], 'b.', label='Validation MAE')\n",
        "plt.title('Training and validation mean absolute error')\n",
        "plt.xlabel('Epochs')\n",
        "plt.ylabel('MAE')\n",
        "plt.legend()\n",
        "plt.show()"
      ]
    },
    {
      "cell_type": "code",
      "execution_count": 129,
      "id": "eeb278e1",
      "metadata": {
        "colab": {
          "base_uri": "https://localhost:8080/"
        },
        "id": "eeb278e1",
        "outputId": "60e62848-859b-4d0b-a39a-07637483b271"
      },
      "outputs": [
        {
          "output_type": "stream",
          "name": "stdout",
          "text": [
            "2/2 [==============================] - 0s 5ms/step\n",
            "Accuracy: 100.0%\n",
            "25.0\n"
          ]
        }
      ],
      "source": [
        "# use the model to predict the test inputs\n",
        "predictions = model.predict(inputs_test)\n",
        "\n",
        "# print the predictions and the expected ouputs\n",
        "# print(\"predictions =\\n\", np.round(predictions, decimals=3))\n",
        "# print(\"actual =\\n\", outputs_test)\n",
        "\n",
        "\n",
        "# count the total number of accurate predictions\n",
        "\n",
        "correct = 0\n",
        "for i in range(len(predictions)):\n",
        "    if np.argmax(predictions[i]) == np.argmax(outputs_test[i]):\n",
        "        correct += 1\n",
        "\n",
        "print(f\"Accuracy: {(correct / len(predictions))*100}%\")\n",
        "print((1/NUM_GESTURES)*100)"
      ]
    },
    {
      "cell_type": "code",
      "execution_count": 136,
      "id": "06a270d3",
      "metadata": {
        "colab": {
          "base_uri": "https://localhost:8080/"
        },
        "id": "06a270d3",
        "outputId": "88b26372-4e2a-400a-e7cd-1fe8ccedee5d"
      },
      "outputs": [
        {
          "output_type": "stream",
          "name": "stderr",
          "text": [
            "WARNING:absl:Found untraced functions such as _update_step_xla while saving (showing 1 of 1). These functions will not be directly callable after loading.\n",
            "WARNING:absl:Found untraced functions such as _update_step_xla while saving (showing 1 of 1). These functions will not be directly callable after loading.\n",
            "/usr/local/lib/python3.9/dist-packages/tensorflow/lite/python/convert.py:789: UserWarning: Statistics for quantized inputs were expected, but not specified; continuing anyway.\n",
            "  warnings.warn(\"Statistics for quantized inputs were expected, but not \"\n"
          ]
        },
        {
          "output_type": "execute_result",
          "data": {
            "text/plain": [
              "57728"
            ]
          },
          "metadata": {},
          "execution_count": 136
        }
      ],
      "source": [
        "converter_original = tf.lite.TFLiteConverter.from_keras_model(model)\n",
        "model_tflite = converter_original.convert()\n",
        "open(\"model.tflite\",\"wb\").write(model_tflite)\n",
        "\n",
        "\n",
        "\n",
        "def representative_dataset_generator():\n",
        "    for value in inputs_test:\n",
        "        yield [np.array(value,dtype =np.float32,ndmin=2)]\n",
        "        \n",
        "converter = tf.lite.TFLiteConverter.from_keras_model(model)\n",
        "converter.optimizations = [tf.lite.Optimize.DEFAULT]\n",
        "        \n",
        "converter.representative_dataset = representative_dataset_generator\n",
        "\n",
        "model_tflite_quantized = converter.convert()\n",
        "open(\"model_quantized.tflite\",\"wb\").write(model_tflite_quantized)\n"
      ]
    },
    {
      "cell_type": "code",
      "execution_count": 138,
      "id": "2eb55eea",
      "metadata": {
        "colab": {
          "base_uri": "https://localhost:8080/"
        },
        "id": "2eb55eea",
        "outputId": "de88719d-550a-426f-c433-cc2ac69c170a"
      },
      "outputs": [
        {
          "output_type": "stream",
          "name": "stdout",
          "text": [
            "Accuracy: 1.0\n"
          ]
        }
      ],
      "source": [
        "model_quant_eval = tf.lite.Interpreter('model_quantized.tflite')\n",
        "model_quant_eval.allocate_tensors()\n",
        "model_quant_eval_input_index = model_quant_eval.get_input_details()[0][\"index\"]\n",
        "model_quant_eval_output_index = model_quant_eval.get_output_details()[0][\"index\"]\n",
        "model_quant_eval_predictions = []\n",
        "\n",
        "for input_value in inputs_test:\n",
        "  input_value_tensor = tf.convert_to_tensor([input_value], dtype=np.float32)\n",
        "  model_quant_eval.set_tensor(model_quant_eval_input_index, input_value_tensor)\n",
        "  model_quant_eval.invoke()\n",
        "  model_quant_eval_predictions.append(model_quant_eval.get_tensor(model_quant_eval_output_index)[0])\n",
        "\n",
        "correct = 0\n",
        "for i in range(len(predictions)):\n",
        "    if np.argmax(model_quant_eval_predictions[i]) == np.argmax(outputs_test[i]):\n",
        "        correct += 1\n",
        "\n",
        "print(f\"Accuracy: {correct / len(predictions)}\")\n"
      ]
    },
    {
      "cell_type": "code",
      "execution_count": 139,
      "id": "277d61f2",
      "metadata": {
        "colab": {
          "base_uri": "https://localhost:8080/"
        },
        "id": "277d61f2",
        "outputId": "ca5994b7-d8b9-40ec-a7c1-26de48eaeea0"
      },
      "outputs": [
        {
          "output_type": "stream",
          "name": "stdout",
          "text": [
            "Model is 215756 bytes\n",
            "Quantized Model is 57728 bytes\n",
            "Difference is 158028 bytes\n"
          ]
        }
      ],
      "source": [
        "basic_model_size = os.path.getsize(\"model.tflite\")\n",
        "print(\"Model is %d bytes\" % basic_model_size)\n",
        "quantized_model_size = os.path.getsize(\"model_quantized.tflite\")\n",
        "print(\"Quantized Model is %d bytes\" % quantized_model_size)\n",
        "difference = basic_model_size - quantized_model_size\n",
        "print(\"Difference is %d bytes\" % difference)"
      ]
    },
    {
      "cell_type": "code",
      "execution_count": 140,
      "id": "2cefdb71",
      "metadata": {
        "id": "2cefdb71"
      },
      "outputs": [],
      "source": [
        "# Function: Convert some hex value into an array for C programming\n",
        "def hex_to_c_array(hex_data, var_name):\n",
        "\n",
        "    c_str = ''\n",
        "\n",
        "    # Create header guard\n",
        "    c_str += '#ifndef ' + var_name.upper() + '_H\\n'\n",
        "    c_str += '#define ' + var_name.upper() + '_H\\n\\n'\n",
        "\n",
        "    # Add array length at top of file\n",
        "    c_str += '\\nunsigned int ' + var_name + '_len = ' + str(len(hex_data)) + ';\\n'\n",
        "\n",
        "    # Declare C variable\n",
        "    c_str += 'unsigned char ' + var_name + '[] = {'\n",
        "    hex_array = []\n",
        "    for i, val in enumerate(hex_data) :\n",
        "\n",
        "        # Construct string from hex\n",
        "        hex_str = format(val, '#04x')\n",
        "\n",
        "        # Add formatting so each line stays within 80 characters\n",
        "        if (i + 1) < len(hex_data):\n",
        "            hex_str += ','\n",
        "        if (i + 1) % 12 == 0:\n",
        "            hex_str += '\\n '\n",
        "        hex_array.append(hex_str)\n",
        "\n",
        "    # Add closing brace\n",
        "    c_str += '\\n ' + format(' '.join(hex_array)) + '\\n};\\n\\n'\n",
        "\n",
        "    # Close out header guard\n",
        "    c_str += '#endif //' + var_name.upper() + '_H'\n",
        "\n",
        "    return c_str"
      ]
    },
    {
      "cell_type": "code",
      "execution_count": 141,
      "id": "268538ec",
      "metadata": {
        "id": "268538ec"
      },
      "outputs": [],
      "source": [
        "model_tflite_file = open('model_quantized.tflite','rb')\n",
        "model_tflite = model_tflite_file.read()\n",
        "with open('model_quantized.h','w') as file:\n",
        "    file.write(hex_to_c_array(model_tflite,'model_quantized'))"
      ]
    },
    {
      "cell_type": "code",
      "execution_count": 142,
      "id": "6dd6773c",
      "metadata": {
        "id": "6dd6773c"
      },
      "outputs": [],
      "source": [
        "model_tflite_file = open('model.tflite','rb')\n",
        "model_tflite = model_tflite_file.read()\n",
        "with open('model.h','w') as file:\n",
        "    file.write(hex_to_c_array(model_tflite,'model'))"
      ]
    }
  ],
  "metadata": {
    "kernelspec": {
      "display_name": "Python 3 (ipykernel)",
      "language": "python",
      "name": "python3"
    },
    "language_info": {
      "codemirror_mode": {
        "name": "ipython",
        "version": 3
      },
      "file_extension": ".py",
      "mimetype": "text/x-python",
      "name": "python",
      "nbconvert_exporter": "python",
      "pygments_lexer": "ipython3",
      "version": "3.8.10"
    },
    "colab": {
      "provenance": []
    },
    "accelerator": "GPU",
    "gpuClass": "standard"
  },
  "nbformat": 4,
  "nbformat_minor": 5
}